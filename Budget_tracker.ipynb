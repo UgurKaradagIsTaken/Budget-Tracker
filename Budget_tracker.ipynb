{
 "cells": [
  {
   "cell_type": "code",
   "execution_count": null,
   "id": "initial_id",
   "metadata": {
    "collapsed": true
   },
   "outputs": [],
   "source": [
    ""
   ]
  },
  {
   "metadata": {},
   "cell_type": "code",
   "outputs": [],
   "execution_count": null,
   "source": "expenses = []",
   "id": "3cefd8814a5b2eb5"
  },
  {
   "metadata": {},
   "cell_type": "code",
   "outputs": [],
   "execution_count": null,
   "source": [
    "def is_valid_number(num):\n",
    "    try:\n",
    "        if not isinstance(num, str):  # Ensure input is a string\n",
    "            return False\n",
    "        else:\n",
    "            if num.lstrip('-').replace('.', '', 1).isdigit():\n",
    "                return True\n",
    "            else:\n",
    "                print('\\n' * 2)\n",
    "                print('Input has to be a number')\n",
    "                return False\n",
    "    except Exception as e:  # Catch unexpected errors\n",
    "        print(f\"Error: {e}\")  # Print error message for debugging\n",
    "        return False"
   ],
   "id": "20c74e6f77217bf9"
  },
  {
   "metadata": {},
   "cell_type": "code",
   "outputs": [],
   "execution_count": null,
   "source": [
    "def is_valid_number_and_in_range(num, min_value, max_value):\n",
    "    if not is_valid_number(num):\n",
    "        print('Choice has to be a number!')\n",
    "        print('\\n' * 2)\n",
    "        return False\n",
    "    num = int(num)\n",
    "    if min_value <= num <= max_value:\n",
    "        return True\n",
    "    else:\n",
    "        print(f\"Number has to be between range of  {min_value} to {max_value}\")\n",
    "        print('\\n' * 2)\n",
    "        return False"
   ],
   "id": "46e7682aba2940d0"
  },
  {
   "metadata": {},
   "cell_type": "code",
   "outputs": [],
   "execution_count": null,
   "source": [
    "def is_valid_string(string):\n",
    "    try:\n",
    "        if not isinstance(string,str):\n",
    "            return False\n",
    "        else:\n",
    "            if string.strip().replace(' ','').isalpha()  :\n",
    "                return True\n",
    "            else:\n",
    "                print('Input has to be a string!')\n",
    "                return False\n",
    "    except Exception as e:\n",
    "        print(f'Error {e}')\n",
    "        return False"
   ],
   "id": "5a6ddf0f470bbaf4"
  },
  {
   "metadata": {},
   "cell_type": "code",
   "outputs": [],
   "execution_count": null,
   "source": [
    "from datetime import datetime\n",
    "def is_valid_date(date_str):\n",
    "    try:\n",
    "        datetime.strptime(date_str, '%d-%m-%Y')\n",
    "        return True\n",
    "    except ValueError:\n",
    "        print(\"\\n❌ Invalid date format! Please enter in 'DD-MM-YYYY' format.\\n\")\n",
    "        return False"
   ],
   "id": "25ad7e77a4380106"
  },
  {
   "metadata": {},
   "cell_type": "code",
   "outputs": [],
   "execution_count": null,
   "source": [
    "def is_valid_date(date_str):\n",
    "    from datetime import datetime\n",
    "    try:\n",
    "        datetime.strptime(date_str, '%d-%m-%Y')\n",
    "        return True\n",
    "    except ValueError:\n",
    "        print(\"❌ Invalid date format! Please enter in 'DD-MM-YYYY' format.\")\n",
    "        return False"
   ],
   "id": "3c867c537433faca"
  },
  {
   "metadata": {},
   "cell_type": "code",
   "outputs": [],
   "execution_count": null,
   "source": [
    "def add_expense(expenses):\n",
    "    amount = input('Enter The Amount: ')\n",
    "    while not is_valid_number(amount):\n",
    "        amount = input('Enter The Amount: ')\n",
    "        if not is_valid_number(amount):\n",
    "            print('Amount has to be a number!\\n')\n",
    "            continue\n",
    "    amount = float(amount)\n",
    "    category = input('What\\'s the category: ')\n",
    "    while not is_valid_string(category):\n",
    "        category = input('What\\'s the category: ')\n",
    "        if not is_valid_string(category):\n",
    "            print('Category must be string\\n')\n",
    "            continue\n",
    "    date = input('What\\'s the date : (DD-MM-YYYY) ')\n",
    "    while not is_valid_date(date):\n",
    "        date = input('What\\'s the date : (DD-MM-YYYY) ')\n",
    "        if not is_valid_date(date):\n",
    "            print('Date has to be in correct format\\n')\n",
    "            continue\n",
    "    date = datetime.strptime(date,'%d-%m-%Y')\n",
    "    new_expense = {'amount': amount, 'category': category, 'date': date}\n",
    "    expenses.append(new_expense)"
   ],
   "id": "6aff6b98c112b78b"
  },
  {
   "metadata": {},
   "cell_type": "code",
   "outputs": [],
   "execution_count": null,
   "source": [
    "def view_expenses(expenses, show_indices = False):\n",
    "    if not expenses:\n",
    "        print('The list is empty!')\n",
    "    else:\n",
    "        print('\\n📌Your expenses:')\n",
    "        print('-' * 40)\n",
    "        if show_indices:\n",
    "            print(f\"{'No':<5} {'amount':<10} {'category':<15} {'date':<15}\")\n",
    "        else:\n",
    "            print(f\"{'amount':<10} {'category':<15} {'date':<15}\")\n",
    "        print(\"-\" * 40)\n",
    "        for index,expense in enumerate(expenses, start=1):\n",
    "            date_str = expense['date'].strftime('%d-%m-%Y') if isinstance(expense['date'],datetime) else expense['date']\n",
    "            if show_indices:\n",
    "                print(f\"[{index}] {expense['amount']:<10} {expense['category']:<15} {date_str:<15}\")\n",
    "            else:\n",
    "                print(f\"{expense['amount']:<10} {expense['category']:<15} {date_str:<15}\")\n",
    "        print(\"-\" * 40)"
   ],
   "id": "26edf24eed85db35"
  },
  {
   "metadata": {},
   "cell_type": "code",
   "outputs": [],
   "execution_count": null,
   "source": "view_expenses(expenses)",
   "id": "283c66a17ec51d4a"
  },
  {
   "metadata": {},
   "cell_type": "code",
   "outputs": [],
   "execution_count": null,
   "source": "5 in range(0,6)",
   "id": "a54da2731713a7f9"
  },
  {
   "metadata": {},
   "cell_type": "code",
   "outputs": [],
   "execution_count": null,
   "source": [
    "def delete_expense(expenses):\n",
    "    if not expenses:\n",
    "        print('No expenses to delete!')\n",
    "        return\n",
    "    view_expenses(expenses,show_indices=True)\n",
    "    num = ''\n",
    "    while not is_valid_number_and_in_range(num, 1, len(expenses)):\n",
    "        num = input('Enter the number of expense you want to delete: ')\n",
    "    num = int(num)\n",
    "    deleted_expense = expenses.pop(num - 1)\n",
    "    print(f\"Deleted the expense {deleted_expense} from the list\")\n",
    "    return"
   ],
   "id": "1577874e09ee0971"
  },
  {
   "metadata": {},
   "cell_type": "code",
   "outputs": [],
   "execution_count": null,
   "source": "add_expense(expenses)",
   "id": "c20356ab574db647"
  },
  {
   "metadata": {},
   "cell_type": "code",
   "outputs": [],
   "execution_count": null,
   "source": [
    "view_expenses(expenses)\n",
    "type(expenses[0]['date'])"
   ],
   "id": "6714d1133416c84c"
  },
  {
   "metadata": {},
   "cell_type": "code",
   "outputs": [],
   "execution_count": null,
   "source": [
    "def edit_expense(expenses):\n",
    "    if not expenses:\n",
    "        print('No expenses to edit')\n",
    "        return\n",
    "    view_expenses(expenses, show_indices = True)\n",
    "    num = input('Which expense do you want to edit? : ')\n",
    "    while not is_valid_number_and_in_range(num, 1, len(expenses)):\n",
    "        print('\\n' *2)\n",
    "        num = input('Which expense do you want to edit? : ')\n",
    "    num = int(num)\n",
    "    print(f\"This is the expense you want to edit: {expenses[num - 1]}\")\n",
    "    string = input('which field do you want to edit? : ').lower()\n",
    "    while not is_valid_string(string) or string not in ['amount', 'category', 'date']:\n",
    "        print('\\n' *2)\n",
    "        string = input('which field do you want to edit? : ').lower()\n",
    "    if string == 'amount':\n",
    "        num_choice = input('Edit the amount : ')\n",
    "        while not is_valid_number(num_choice):\n",
    "            num_choice = input('Edit the amount : ')\n",
    "        num_choice = float(num_choice)\n",
    "        expenses[num - 1]['amount'] = num_choice\n",
    "    elif string == 'category':\n",
    "        category_choice = input('Edit the category : ')\n",
    "        while not is_valid_string(category_choice):\n",
    "            category_choice = input('Edit the category : ')\n",
    "        expenses[num - 1]['category'] = category_choice\n",
    "    else:\n",
    "        date_choice = input('Edit the date : ')\n",
    "        while not is_valid_date(date_choice):\n",
    "            date_choice = input('Edit the date : (DD-MM-YYYY) ')\n",
    "        expenses[num - 1]['date'] = datetime.strptime(date_choice, '%d-%m-%Y')\n",
    "    print(f\"Here is your new edited expense : {expenses[num - 1]}\")"
   ],
   "id": "e11f49188d5a0457"
  },
  {
   "metadata": {},
   "cell_type": "code",
   "outputs": [],
   "execution_count": null,
   "source": "edit_expense(expenses)",
   "id": "f4728e1e29cbf9b1"
  },
  {
   "metadata": {},
   "cell_type": "code",
   "outputs": [],
   "execution_count": null,
   "source": "view_expenses(expenses)",
   "id": "7acbc40dce5ba641"
  },
  {
   "metadata": {},
   "cell_type": "code",
   "outputs": [],
   "execution_count": null,
   "source": [
    "def calculate_total_expenses(expenses):\n",
    "    if not expenses:\n",
    "        print('There is no expense')\n",
    "        return\n",
    "    else:\n",
    "        total = sum(expense['amount'] for expense in expenses)\n",
    "    print(f\"Total amount spent is: {total}\")\n",
    "    return total"
   ],
   "id": "74289130423693fb"
  },
  {
   "metadata": {},
   "cell_type": "code",
   "outputs": [],
   "execution_count": null,
   "source": "calculate_total_expenses(expenses)",
   "id": "f0cfb7e606c2995f"
  },
  {
   "metadata": {},
   "cell_type": "code",
   "outputs": [],
   "execution_count": null,
   "source": [
    "def filter_expense_by_category(expenses, category):\n",
    "    filtered_expenses = [expense for expense in expenses if expense['category'].lower() == category.lower()]\n",
    "    if not filtered_expenses:\n",
    "        print('No expense in this category')\n",
    "    else:\n",
    "        print(f\"{'amount':<10} {'category':<15} {'date':<15}\")\n",
    "        view_expenses(filtered_expenses)"
   ],
   "id": "d85cdac58f6fd5dc"
  },
  {
   "metadata": {},
   "cell_type": "code",
   "outputs": [],
   "execution_count": null,
   "source": "filter_expense_by_category(expenses,'food')",
   "id": "1116d562f9798c84"
  },
  {
   "metadata": {},
   "cell_type": "code",
   "outputs": [],
   "execution_count": null,
   "source": [
    "def filter_expense_by_date_range(expenses, start_date, end_date):\n",
    "    while not is_valid_date(start_date):\n",
    "        start_date = input('Enter the start date again :')\n",
    "    start_date = datetime.strptime(start_date , '%d-%m-%Y')\n",
    "    while not is_valid_date(end_date):\n",
    "        end_date = input('Enter the end date again :')\n",
    "    end_date = datetime.strptime(end_date , '%d-%m-%Y')\n",
    "    filtered_expenses = [expense for expense in expenses if start_date <= expense['date'] <= end_date]\n",
    "    if not filtered_expenses:\n",
    "        print('No expense found in this range!')\n",
    "    else:\n",
    "        view_expenses(filtered_expenses)"
   ],
   "id": "e374324da1b4990e"
  },
  {
   "metadata": {},
   "cell_type": "code",
   "outputs": [],
   "execution_count": null,
   "source": "filter_expense_by_date_range(expenses, '17-01-2025', '17-04-2027')",
   "id": "6d10e721c0937e6c"
  },
  {
   "metadata": {},
   "cell_type": "code",
   "outputs": [],
   "execution_count": null,
   "source": [
    "def save_expenses_to_file(expenses):\n",
    "    with open('expenses.txt','w') as file:\n",
    "        file.write('Amount,Category,Date\\n')\n",
    "        for expense in expenses:\n",
    "            expenses_str = ','.join(map(str,[expense['amount'], expense['category'], expense['date'].strftime('%d-%m-%Y') if isinstance(expense['date'],datetime) else expense['date']]))\n",
    "            file.write(expenses_str + '\\n')"
   ],
   "id": "ded39f830cffcdc0"
  },
  {
   "metadata": {},
   "cell_type": "code",
   "outputs": [],
   "execution_count": null,
   "source": "save_expenses_to_file(expenses)  # ✅ Run this again to save the file",
   "id": "4f57449da9e68f5b"
  },
  {
   "metadata": {},
   "cell_type": "code",
   "outputs": [],
   "execution_count": null,
   "source": [
    "def load_expenses_from_file():\n",
    "    expenses = []\n",
    "    with open('expenses.txt', 'r') as file:\n",
    "        file.readline()\n",
    "        for line in file:\n",
    "            amount,category,date = line.strip().split(',')\n",
    "            amount = float(amount)\n",
    "            date = datetime.strptime(date, '%d-%m-%Y')\n",
    "            expense = {'amount': amount, 'category':category, 'date':date}\n",
    "            expenses.append(expense)\n",
    "    return expenses"
   ],
   "id": "89de45398b2c2d9b"
  },
  {
   "metadata": {},
   "cell_type": "code",
   "outputs": [],
   "execution_count": null,
   "source": "expenses = load_expenses_from_file()",
   "id": "144fe5a9df4afbb5"
  },
  {
   "metadata": {},
   "cell_type": "code",
   "outputs": [],
   "execution_count": null,
   "source": "expenses",
   "id": "8b9e2efd08ca8d50"
  },
  {
   "metadata": {},
   "cell_type": "code",
   "outputs": [],
   "execution_count": null,
   "source": [
    "def main():\n",
    "    expenses = []\n",
    "    game_on = True\n",
    "    while(game_on):\n",
    "        print('\\n💰 Budget Tracker menu:')\n",
    "        print(\"1️⃣ Add Expense\")\n",
    "        print(\"2️⃣ View Expenses\")\n",
    "        print(\"3️⃣ Edit Expense\")\n",
    "        print(\"4️⃣ Delete Expense\")\n",
    "        print(\"5️⃣ Filter by Category\")\n",
    "        print(\"6️⃣ Filter by Date Range\")\n",
    "        print(\"7️⃣ Calculate Total Expenses\")\n",
    "        print(\"8️⃣ Save Expenses to File\")\n",
    "        print(\"9️⃣ Load Expenses from File\")\n",
    "        print(\"0️⃣ Exit\")\n",
    "        choice = input('Select an option: ')\n",
    "        if choice == \"1\":\n",
    "            add_expense(expenses)\n",
    "        elif choice == \"2\":\n",
    "            view_expenses(expenses)\n",
    "        elif choice == \"3\":\n",
    "            edit_expense(expenses)\n",
    "        elif choice == \"4\":\n",
    "            delete_expense(expenses)\n",
    "        elif choice == '5':\n",
    "            category = input('Enter the category: ')\n",
    "            filter_expense_by_category(expenses, category)\n",
    "        elif choice == \"6\":\n",
    "            start_date = input(\"Enter start date (DD-MM-YYYY): \")\n",
    "            end_date = input(\"Enter end date (DD-MM-YYYY): \")\n",
    "            filter_expense_by_date_range(expenses, start_date, end_date)\n",
    "        elif choice == \"7\":\n",
    "            calculate_total_expenses(expenses)\n",
    "        elif choice == \"8\":\n",
    "            save_expenses_to_file(expenses)\n",
    "        elif choice == \"9\":\n",
    "            expenses = load_expenses_from_file()\n",
    "            print(\"✅ Expenses loaded successfully!\")\n",
    "        elif choice == \"0\":\n",
    "            print(\"👋 Exiting Budget Tracker. Have a great day!\")\n",
    "            break\n",
    "        else:\n",
    "            print(\"❌ Invalid option! Please choose a valid number.\")"
   ],
   "id": "9a322492fb6d882f"
  },
  {
   "metadata": {},
   "cell_type": "code",
   "outputs": [],
   "execution_count": null,
   "source": "main()",
   "id": "ada2f2e1c10f1521"
  },
  {
   "metadata": {},
   "cell_type": "code",
   "outputs": [],
   "execution_count": null,
   "source": "",
   "id": "29d9685ee847dd"
  }
 ],
 "metadata": {
  "kernelspec": {
   "display_name": "Python 3",
   "language": "python",
   "name": "python3"
  },
  "language_info": {
   "codemirror_mode": {
    "name": "ipython",
    "version": 2
   },
   "file_extension": ".py",
   "mimetype": "text/x-python",
   "name": "python",
   "nbconvert_exporter": "python",
   "pygments_lexer": "ipython2",
   "version": "2.7.6"
  }
 },
 "nbformat": 4,
 "nbformat_minor": 5
}
